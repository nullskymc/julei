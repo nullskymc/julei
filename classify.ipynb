{
 "cells": [
  {
   "cell_type": "code",
   "execution_count": 1,
   "metadata": {},
   "outputs": [],
   "source": [
    "import cv2\n",
    "import numpy as np"
   ]
  },
  {
   "cell_type": "code",
   "execution_count": 9,
   "metadata": {},
   "outputs": [
    {
     "name": "stdout",
     "output_type": "stream",
     "text": [
      "145.0\n"
     ]
    }
   ],
   "source": [
    "img = cv2.imread('./dataset/Top-0001_sliced_small/5_1.png', cv2.IMREAD_GRAYSCALE)\n",
    "\n",
    "# 使用Otsu算法计算阈值\n",
    "thre, thresh = cv2.threshold(img, 0, 255, cv2.THRESH_BINARY + cv2.THRESH_OTSU)\n",
    "\n",
    "print(thre)"
   ]
  },
  {
   "cell_type": "markdown",
   "metadata": {},
   "source": [
    "石英-空隙 77\n",
    "石英-方解石 178\n",
    "石英-黏土  95\n"
   ]
  }
 ],
 "metadata": {
  "kernelspec": {
   "display_name": "Python 3",
   "language": "python",
   "name": "python3"
  },
  "language_info": {
   "codemirror_mode": {
    "name": "ipython",
    "version": 3
   },
   "file_extension": ".py",
   "mimetype": "text/x-python",
   "name": "python",
   "nbconvert_exporter": "python",
   "pygments_lexer": "ipython3",
   "version": "3.10.8"
  },
  "orig_nbformat": 4
 },
 "nbformat": 4,
 "nbformat_minor": 2
}
