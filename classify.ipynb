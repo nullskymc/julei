{
 "cells": [
  {
   "cell_type": "code",
   "execution_count": null,
   "metadata": {},
   "outputs": [],
   "source": [
    "import cv2\n",
    "import numpy as np\n",
    "from sklearn.mixture import GaussianMixture\n"
   ]
  },
  {
   "cell_type": "markdown",
   "metadata": {},
   "source": [
    "### pre-process"
   ]
  },
  {
   "cell_type": "code",
   "execution_count": null,
   "metadata": {},
   "outputs": [],
   "source": [
    "# 读取图像\n",
    "img = cv2.imread('./dataset/Top-0001.bmp')\n",
    "\n",
    "# 将图像转换为灰度图像\n",
    "gray_img = cv2.cvtColor(img, cv2.COLOR_BGR2GRAY)\n",
    "\n",
    "# 对灰度图像进行预处理\n",
    "denoised_img = cv2.fastNlMeansDenoising(gray_img, None, 10, 7, 21)\n",
    "\n",
    "# 将图像转换为一维数组\n",
    "data = denoised_img.reshape(-1, 1)"
   ]
  },
  {
   "cell_type": "markdown",
   "metadata": {},
   "source": [
    "### 高斯混合聚类算法"
   ]
  },
  {
   "cell_type": "code",
   "execution_count": null,
   "metadata": {},
   "outputs": [],
   "source": [
    "# 使用高斯混合模型聚类算法进行聚类\n",
    "gmm = GaussianMixture(n_components=5)\n",
    "gmm.fit(data)\n",
    "labels = gmm.predict(data)\n",
    "\n",
    "# 将聚类结果转换为图像\n",
    "segmented_img = labels.reshape(denoised_img.shape)\n",
    "\n",
    "# 根据聚类结果对图像进行分类\n",
    "fangjie = np.zeros_like(segmented_img)\n",
    "shiying = np.zeros_like(segmented_img)\n",
    "niantu = np.zeros_like(segmented_img)\n",
    "kongxi = np.zeros_like(segmented_img)\n",
    "changshi = np.zeros_like(segmented_img)\n"
   ]
  },
  {
   "cell_type": "markdown",
   "metadata": {},
   "source": [
    "### 遍历图像的每个像素点，根据聚类结果对图像进行分类"
   ]
  },
  {
   "cell_type": "code",
   "execution_count": null,
   "metadata": {},
   "outputs": [],
   "source": [
    "for i in np.unique(segmented_img):\n",
    "    mask = segmented_img == i\n",
    "    if np.mean(gray_img[mask]) > 190:\n",
    "        fangjie[mask] = 255\n",
    "    elif np.mean(gray_img[mask]) > 124.8:\n",
    "        changshi[mask] = 255\n",
    "    elif np.mean(gray_img[mask]) > 120:\n",
    "        shiying[mask] = 255\n",
    "    elif np.mean(gray_img[mask]) > 55:\n",
    "        niantu[mask] = 255\n",
    "    else:\n",
    "        kongxi[mask] = 255"
   ]
  },
  {
   "cell_type": "markdown",
   "metadata": {},
   "source": [
    "### 保存实验结果"
   ]
  },
  {
   "cell_type": "code",
   "execution_count": null,
   "metadata": {},
   "outputs": [],
   "source": [
    "# 将分类结果转换为彩色图像\n",
    "fangjie = cv2.cvtColor(fangjie.astype(np.uint8), cv2.COLOR_GRAY2BGR)\n",
    "shiying = cv2.cvtColor(shiying.astype(np.uint8), cv2.COLOR_GRAY2BGR)\n",
    "niantu = cv2.cvtColor(niantu.astype(np.uint8), cv2.COLOR_GRAY2BGR)\n",
    "kongxi = cv2.cvtColor(kongxi.astype(np.uint8), cv2.COLOR_GRAY2BGR)\n",
    "changshi = cv2.cvtColor(changshi.astype(np.uint8), cv2.COLOR_GRAY2BGR)\n",
    "\n",
    "\n",
    "\n",
    "# 将分类结果叠加到原图上\n",
    "img = cv2.add(img, fangjie)\n",
    "img = cv2.add(img, shiying)\n",
    "img = cv2.add(img, niantu)\n",
    "img = cv2.add(img, kongxi)\n",
    "img = cv2.add(img, changshi)\n",
    "\n",
    "# 保存分类结果图片到对应的文件夹\n",
    "cv2.imwrite('./dataset/fangjie/Top-0001_fangjie.bmp', fangjie)\n",
    "cv2.imwrite('./dataset/shiying/Top-0001_shiying.bmp', shiying)\n",
    "cv2.imwrite('./dataset/niantu/Top-0001_niantu.bmp', niantu)\n",
    "cv2.imwrite('./dataset/kongxi/Top-0001_kongxi.bmp', kongxi)\n",
    "cv2.imwrite('./dataset/changshi/Top-0001_changshi.bmp', changshi)\n",
    "cv2.imwrite('./dataset/Top-0001_result.bmp', img)"
   ]
  }
 ],
 "metadata": {
  "kernelspec": {
   "display_name": "Python 3",
   "language": "python",
   "name": "python3"
  },
  "language_info": {
   "codemirror_mode": {
    "name": "ipython",
    "version": 3
   },
   "file_extension": ".py",
   "mimetype": "text/x-python",
   "name": "python",
   "nbconvert_exporter": "python",
   "pygments_lexer": "ipython3",
   "version": "3.10.8"
  },
  "orig_nbformat": 4
 },
 "nbformat": 4,
 "nbformat_minor": 2
}
