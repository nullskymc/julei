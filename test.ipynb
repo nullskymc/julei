{
 "cells": [
  {
   "cell_type": "code",
   "execution_count": 11,
   "metadata": {},
   "outputs": [],
   "source": [
    "from PIL import Image\n",
    "\n",
    "# Define the grayscale ranges for each mineral\n",
    "mineral_ranges = {\n",
    "    'shiying': (100, 220),\n",
    "    'changshi': (60, 99),\n",
    "    'fangjie': (221, 255),\n",
    "    'niantu': (41, 60),\n",
    "    'kongxi': (0, 40)\n",
    "}\n",
    "\n",
    "# Load the limestone image and convert it to grayscale\n",
    "img = Image.open('./dataset/Top-0001_orign.bmp').convert('L')\n",
    "\n",
    "# Classify each pixel based on its grayscale value\n",
    "classified_img = Image.new('1', img.size)\n",
    "for x in range(img.width):\n",
    "    for y in range(img.height):\n",
    "        pixel_value = img.getpixel((x, y))\n",
    "        for mineral, value_range in mineral_ranges.items():\n",
    "            if value_range[0] <= pixel_value <= value_range[1]:\n",
    "                classified_img.putpixel((x, y), 1)\n",
    "                break\n",
    "\n",
    "# Save the classified image\n",
    "classified_img.save('Top-0001_orign.bmp')"
   ]
  }
 ],
 "metadata": {
  "kernelspec": {
   "display_name": "Python 3",
   "language": "python",
   "name": "python3"
  },
  "language_info": {
   "codemirror_mode": {
    "name": "ipython",
    "version": 3
   },
   "file_extension": ".py",
   "mimetype": "text/x-python",
   "name": "python",
   "nbconvert_exporter": "python",
   "pygments_lexer": "ipython3",
   "version": "3.10.8"
  },
  "orig_nbformat": 4
 },
 "nbformat": 4,
 "nbformat_minor": 2
}
