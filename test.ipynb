{
 "cells": [
  {
   "cell_type": "markdown",
   "metadata": {},
   "source": [
    "## 导入 "
   ]
  },
  {
   "cell_type": "code",
   "execution_count": null,
   "metadata": {},
   "outputs": [],
   "source": [
    "import cv2"
   ]
  },
  {
   "cell_type": "markdown",
   "metadata": {},
   "source": [
    "## 读取图片"
   ]
  },
  {
   "cell_type": "code",
   "execution_count": null,
   "metadata": {},
   "outputs": [],
   "source": [
    "img = cv2.imread('./dataset/Top-0001_orign.bmp')"
   ]
  },
  {
   "cell_type": "markdown",
   "metadata": {},
   "source": [
    "## 将图片转为灰度图"
   ]
  },
  {
   "cell_type": "code",
   "execution_count": null,
   "metadata": {},
   "outputs": [],
   "source": [
    "gray = cv2.cvtColor(img, cv2.COLOR_BGR2GRAY)"
   ]
  },
  {
   "cell_type": "markdown",
   "metadata": {},
   "source": [
    "## 对灰度图进行Otsu阈值处理"
   ]
  },
  {
   "cell_type": "code",
   "execution_count": null,
   "metadata": {},
   "outputs": [],
   "source": [
    "_, thresh = cv2.threshold(gray, 0, 255, cv2.THRESH_BINARY + cv2.THRESH_OTSU)"
   ]
  },
  {
   "cell_type": "markdown",
   "metadata": {},
   "source": [
    "## 根据各种矿物的阈值范围进行分类"
   ]
  },
  {
   "cell_type": "code",
   "execution_count": null,
   "metadata": {},
   "outputs": [],
   "source": [
    "shiying = cv2.inRange(gray, 101, 200)\n",
    "changshi = cv2.inRange(gray, 61, 100)\n",
    "fangjie = cv2.inRange(gray, 221, 255)\n",
    "niantu = cv2.inRange(gray, 41, 60)\n",
    "kongxi = cv2.inRange(gray, 0, 40)"
   ]
  },
  {
   "cell_type": "markdown",
   "metadata": {},
   "source": [
    "## 将分类后的图片保存"
   ]
  },
  {
   "cell_type": "code",
   "execution_count": null,
   "metadata": {},
   "outputs": [],
   "source": [
    "\n",
    "cv2.imwrite('./dataset/Top-0001_shiying.bmp', shiying)\n",
    "cv2.imwrite('./dataset/Top-0001_changshi.bmp', changshi)\n",
    "cv2.imwrite('./dataset/Top-0001_fangjie.bmp', fangjie)\n",
    "cv2.imwrite('./dataset/Top-0001_niantu.bmp', niantu)\n",
    "cv2.imwrite('./dataset/Top-0001_kongxi.bmp', kongxi)"
   ]
  },
  {
   "cell_type": "code",
   "execution_count": 15,
   "metadata": {},
   "outputs": [
    {
     "ename": "IndexError",
     "evalue": "index 1400 is out of bounds for dimension 0 with size 1400",
     "output_type": "error",
     "traceback": [
      "\u001b[0;31m---------------------------------------------------------------------------\u001b[0m",
      "\u001b[0;31mIndexError\u001b[0m                                Traceback (most recent call last)",
      "\u001b[1;32m/workspaces/codespaces-blank/test.ipynb Cell 13\u001b[0m line \u001b[0;36m4\n\u001b[1;32m     <a href='vscode-notebook-cell://codespaces%2Bvigilant-parakeet-wqpgg9j4w54c9w69/workspaces/codespaces-blank/test.ipynb#X20sdnNjb2RlLXJlbW90ZQ%3D%3D?line=44'>45</a>\u001b[0m     mineral2[i] \u001b[39m=\u001b[39m \u001b[39m255\u001b[39m\n\u001b[1;32m     <a href='vscode-notebook-cell://codespaces%2Bvigilant-parakeet-wqpgg9j4w54c9w69/workspaces/codespaces-blank/test.ipynb#X20sdnNjb2RlLXJlbW90ZQ%3D%3D?line=45'>46</a>\u001b[0m \u001b[39melif\u001b[39;00m label \u001b[39m==\u001b[39m \u001b[39m2\u001b[39m:\n\u001b[0;32m---> <a href='vscode-notebook-cell://codespaces%2Bvigilant-parakeet-wqpgg9j4w54c9w69/workspaces/codespaces-blank/test.ipynb#X20sdnNjb2RlLXJlbW90ZQ%3D%3D?line=46'>47</a>\u001b[0m     mineral3[i] \u001b[39m=\u001b[39m \u001b[39m255\u001b[39m\n\u001b[1;32m     <a href='vscode-notebook-cell://codespaces%2Bvigilant-parakeet-wqpgg9j4w54c9w69/workspaces/codespaces-blank/test.ipynb#X20sdnNjb2RlLXJlbW90ZQ%3D%3D?line=47'>48</a>\u001b[0m \u001b[39melif\u001b[39;00m label \u001b[39m==\u001b[39m \u001b[39m3\u001b[39m:\n\u001b[1;32m     <a href='vscode-notebook-cell://codespaces%2Bvigilant-parakeet-wqpgg9j4w54c9w69/workspaces/codespaces-blank/test.ipynb#X20sdnNjb2RlLXJlbW90ZQ%3D%3D?line=48'>49</a>\u001b[0m     mineral4[i] \u001b[39m=\u001b[39m \u001b[39m255\u001b[39m\n",
      "\u001b[0;31mIndexError\u001b[0m: index 1400 is out of bounds for dimension 0 with size 1400"
     ]
    }
   ],
   "source": [
    "import torch\n",
    "import numpy as np\n",
    "import cv2\n",
    "\n",
    "# 读取图像\n",
    "img = cv2.imread('./dataset/Top-0001_orign.bmp')\n",
    "\n",
    "# 将图像转换为灰度图\n",
    "gray = cv2.cvtColor(img, cv2.COLOR_BGR2GRAY)\n",
    "\n",
    "# 将灰度图转换为一维数组\n",
    "data = gray.reshape((-1, 1)).astype(np.float32)\n",
    "\n",
    "# 将数据转换为 PyTorch 张量\n",
    "data_tensor = torch.from_numpy(data)\n",
    "\n",
    "# 设置聚类数\n",
    "k = 5\n",
    "\n",
    "# 初始化聚类中心，可以选择从数据中随机选择样本作为初始中心\n",
    "initial_centers = data_tensor[torch.randperm(data_tensor.shape[0])[:k]]\n",
    "\n",
    "# 执行 k-means 聚类\n",
    "for i in range(10):\n",
    "    # 计算每个样本点与聚类中心的距离\n",
    "    distances = torch.abs(data_tensor - initial_centers.reshape(1, -1))\n",
    "\n",
    "    # 找到每个样本点所属的聚类\n",
    "    labels = torch.argmin(distances, dim=1)\n",
    "\n",
    "    # 更新聚类中心\n",
    "    for j in range(k):\n",
    "        initial_centers[j] = torch.mean(data_tensor[labels == j])\n",
    "\n",
    "# 根据聚类结果对像素进行分类\n",
    "mineral1 = torch.zeros_like(torch.from_numpy(gray))\n",
    "mineral2 = torch.zeros_like(torch.from_numpy(gray))\n",
    "mineral3 = torch.zeros_like(torch.from_numpy(gray))\n",
    "mineral4 = torch.zeros_like(torch.from_numpy(gray))\n",
    "mineral5 = torch.zeros_like(torch.from_numpy(gray))\n",
    "for i, label in enumerate(labels):\n",
    "    if label == 0:\n",
    "        mineral1[i] = 255\n",
    "    elif label == 1:\n",
    "        mineral2[i] = 255\n",
    "    elif label == 2:\n",
    "        mineral3[i] = 255\n",
    "    elif label == 3:\n",
    "        mineral4[i] = 255\n",
    "    elif label == 4:\n",
    "        mineral5[i] = 255\n",
    "\n",
    "# 将分类结果转换为彩色图像\n",
    "mineral1 = cv2.cvtColor(mineral1.numpy().astype(np.uint8), cv2.COLOR_GRAY2BGR)\n",
    "mineral2 = cv2.cvtColor(mineral2.numpy().astype(np.uint8), cv2.COLOR_GRAY2BGR)\n",
    "mineral3 = cv2.cvtColor(mineral3.numpy().astype(np.uint8), cv2.COLOR_GRAY2BGR)\n",
    "mineral4 = cv2.cvtColor(mineral4.numpy().astype(np.uint8), cv2.COLOR_GRAY2BGR)\n",
    "mineral5 = cv2.cvtColor(mineral5.numpy().astype(np.uint8), cv2.COLOR_GRAY2BGR)\n",
    "\n",
    "# 保存分类后的图像\n",
    "cv2.imwrite('./dataset/mineral1/Top-0001_mineral1.bmp', mineral1)\n",
    "cv2.imwrite('./dataset/mineral2/Top-0001_mineral2.bmp', mineral2)\n",
    "cv2.imwrite('./dataset/mineral3/Top-0001_mineral3.bmp', mineral3)\n",
    "cv2.imwrite('./dataset/mineral4/Top-0001_mineral4.bmp', mineral4)\n",
    "cv2.imwrite('./dataset/mineral5/Top-0001_mineral5.bmp', mineral5)"
   ]
  }
 ],
 "metadata": {
  "kernelspec": {
   "display_name": "Python 3",
   "language": "python",
   "name": "python3"
  },
  "language_info": {
   "codemirror_mode": {
    "name": "ipython",
    "version": 3
   },
   "file_extension": ".py",
   "mimetype": "text/x-python",
   "name": "python",
   "nbconvert_exporter": "python",
   "pygments_lexer": "ipython3",
   "version": "3.10.8"
  },
  "orig_nbformat": 4
 },
 "nbformat": 4,
 "nbformat_minor": 2
}
