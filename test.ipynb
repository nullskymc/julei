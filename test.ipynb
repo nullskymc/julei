{
 "cells": [
  {
   "cell_type": "code",
   "execution_count": null,
   "metadata": {},
   "outputs": [],
   "source": [
    "mineral_ranges = {\n",
    "    'shiying': (100, 220),\n",
    "    'changshi': (60, 99),\n",
    "    'fangjie': (221, 255),\n",
    "    'niantu': (41, 60),\n",
    "    'kongxi': (0, 40)\n",
    "}"
   ]
  },
  {
   "cell_type": "code",
   "execution_count": 1,
   "metadata": {},
   "outputs": [
    {
     "ename": "",
     "evalue": "",
     "output_type": "error",
     "traceback": [
      "\u001b[1;31mThe Kernel crashed while executing code in the the current cell or a previous cell. Please review the code in the cell(s) to identify a possible cause of the failure. Click <a href='https://aka.ms/vscodeJupyterKernelCrash'>here</a> for more info. View Jupyter <a href='command:jupyter.viewOutput'>log</a> for further details."
     ]
    }
   ],
   "source": [
    "import cv2\n",
    "\n",
    "# 读取图片\n",
    "img = cv2.imread('./dataset/Top-0001_orign.bmp')\n",
    "\n",
    "# 将图片转为灰度图\n",
    "gray = cv2.cvtColor(img, cv2.COLOR_BGR2GRAY)\n",
    "\n",
    "# 对灰度图进行Otsu阈值处理\n",
    "_, thresh = cv2.threshold(gray, 0, 255, cv2.THRESH_BINARY + cv2.THRESH_OTSU)\n",
    "\n",
    "# 根据各种矿物的阈值范围进行分类\n",
    "shiying = cv2.inRange(gray, 101, 200)\n",
    "changshi = cv2.inRange(gray, 61, 100)\n",
    "fangjie = cv2.inRange(gray, 221, 255)\n",
    "niantu = cv2.inRange(gray, 41, 60)\n",
    "kongxi = cv2.inRange(gray, 0, 40)\n",
    "\n",
    "# 显示结果\n",
    "cv2.imshow('Original Image', img)\n",
    "cv2.imshow('Otsu Threshold', thresh)\n",
    "cv2.imshow('shiying', shiying)\n",
    "cv2.imshow('changshi', changshi)\n",
    "cv2.imshow('fangjie', fangjie)\n",
    "cv2.imshow('niantu', niantu)\n",
    "cv2.imshow('kongxi', kongxi)"
   ]
  }
 ],
 "metadata": {
  "kernelspec": {
   "display_name": "Python 3",
   "language": "python",
   "name": "python3"
  },
  "language_info": {
   "codemirror_mode": {
    "name": "ipython",
    "version": 3
   },
   "file_extension": ".py",
   "mimetype": "text/x-python",
   "name": "python",
   "nbconvert_exporter": "python",
   "pygments_lexer": "ipython3",
   "version": "3.10.8"
  },
  "orig_nbformat": 4
 },
 "nbformat": 4,
 "nbformat_minor": 2
}
